{
 "cells": [
  {
   "cell_type": "code",
   "execution_count": 1,
   "metadata": {},
   "outputs": [],
   "source": [
    "from string import punctuation, digits\n",
    "from pyspark.sql.types import BooleanType\n",
    "from pyspark.sql.functions import udf\n",
    "from pyspark.sql import functions as F\n",
    "from pyspark.sql import SparkSession, DataFrame\n",
    "from pyspark.ml import Pipeline\n",
    "import pandas as pd"
   ]
  },
  {
   "cell_type": "code",
   "execution_count": 2,
   "metadata": {},
   "outputs": [],
   "source": [
    "spark = (\n",
    "    SparkSession.builder\n",
    "        .appName(\"Stack Overflow Data Wrangling\")\n",
    "        .config(\"spark.jars\",\n",
    "    \"/home/gifty_dovie/Documents/blossomData/jars/postgresql-42.2.8.jar\")\n",
    "        .getOrCreate()\n",
    ")"
   ]
  },
  {
   "cell_type": "code",
   "execution_count": 3,
   "metadata": {},
   "outputs": [],
   "source": [
    "questions = spark.read.format(\"jdbc\").options(\n",
    "    url='jdbc:postgresql://localhost:5432/stackoverflow',\n",
    "    driver='org.postgresql.Driver',\n",
    "    user='giftydovie',\n",
    "    password='giftydovie',\n",
    "    dbtable='stackoverflow.questions'\n",
    ").load()"
   ]
  },
  {
   "cell_type": "code",
   "execution_count": 4,
   "metadata": {},
   "outputs": [],
   "source": [
    "questions = questions\\\n",
    "    .withColumnRenamed('id', 'questions_id')\\\n",
    "    .withColumnRenamed('body', 'questions_body')\\\n",
    "    .withColumnRenamed('user_id', 'questions_user_id')\\\n",
    "    .withColumnRenamed('created_at', 'questions_created_at')\\\n",
    "    .withColumnRenamed('comment_count', 'questions_comment_count')\\"
   ]
  },
  {
   "cell_type": "code",
   "execution_count": 5,
   "metadata": {},
   "outputs": [
    {
     "data": {
      "text/plain": [
       "[('questions_id', 'int'),\n",
       " ('questions_user_id', 'int'),\n",
       " ('title', 'string'),\n",
       " ('questions_body', 'string'),\n",
       " ('accepted_answer_id', 'int'),\n",
       " ('score', 'int'),\n",
       " ('view_count', 'int'),\n",
       " ('questions_comment_count', 'int'),\n",
       " ('questions_created_at', 'timestamp')]"
      ]
     },
     "execution_count": 5,
     "metadata": {},
     "output_type": "execute_result"
    }
   ],
   "source": [
    "questions.dtypes"
   ]
  },
  {
   "cell_type": "code",
   "execution_count": 6,
   "metadata": {},
   "outputs": [],
   "source": [
    "answers = spark.read.format(\"jdbc\").options(\n",
    "    url='jdbc:postgresql://localhost:5432/stackoverflow',\n",
    "    driver='org.postgresql.Driver',\n",
    "    user='username',\n",
    "    password='*******',\n",
    "    dbtable='stackoverflow.answers'\n",
    ").load()"
   ]
  },
  {
   "cell_type": "code",
   "execution_count": 7,
   "metadata": {},
   "outputs": [],
   "source": [
    "answers.registerTempTable(\"answers\")\n",
    "answers = answers\\\n",
    "    .withColumnRenamed('id', 'answers_id')\\\n",
    "    .withColumnRenamed('body', 'answers_body')\\\n",
    "    .withColumnRenamed('user_id', 'answers_user_id')\\\n",
    "    .withColumnRenamed('question_id', 'answers_question_id')\\\n",
    "    .withColumnRenamed('score', 'answers_score')\\\n",
    "    .withColumnRenamed('comment_count', 'answers_comment_count')\\\n",
    "    .withColumnRenamed('created_at', 'answers_created_at')"
   ]
  },
  {
   "cell_type": "code",
   "execution_count": 8,
   "metadata": {},
   "outputs": [
    {
     "data": {
      "text/plain": [
       "[('answers_id', 'int'),\n",
       " ('answers_user_id', 'int'),\n",
       " ('answers_question_id', 'int'),\n",
       " ('answers_body', 'string'),\n",
       " ('answers_score', 'int'),\n",
       " ('answers_comment_count', 'int'),\n",
       " ('answers_created_at', 'timestamp')]"
      ]
     },
     "execution_count": 8,
     "metadata": {},
     "output_type": "execute_result"
    }
   ],
   "source": [
    "answers.dtypes"
   ]
  },
  {
   "cell_type": "code",
   "execution_count": 9,
   "metadata": {},
   "outputs": [],
   "source": [
    "users = spark.read.format(\"jdbc\").options(\n",
    "    url='jdbc:postgresql://localhost:5432/stackoverflow',\n",
    "    driver='org.postgresql.Driver',\n",
    "    user='giftydovie',\n",
    "    password='giftydovie',\n",
    "    dbtable='stackoverflow.users'\n",
    ").load()"
   ]
  },
  {
   "cell_type": "code",
   "execution_count": 10,
   "metadata": {},
   "outputs": [],
   "source": [
    "users = users.withColumnRenamed('id', 'users_id')"
   ]
  },
  {
   "cell_type": "code",
   "execution_count": 11,
   "metadata": {},
   "outputs": [
    {
     "data": {
      "text/plain": [
       "[('users_id', 'int'),\n",
       " ('display_name', 'string'),\n",
       " ('reputation', 'string'),\n",
       " ('website_url', 'string'),\n",
       " ('location', 'string'),\n",
       " ('about_me', 'string'),\n",
       " ('views', 'int'),\n",
       " ('up_votes', 'int'),\n",
       " ('down_votes', 'int'),\n",
       " ('image_url', 'string'),\n",
       " ('created_at', 'timestamp'),\n",
       " ('updated_at', 'timestamp')]"
      ]
     },
     "execution_count": 11,
     "metadata": {},
     "output_type": "execute_result"
    }
   ],
   "source": [
    "users.dtypes"
   ]
  },
  {
   "cell_type": "code",
   "execution_count": 12,
   "metadata": {},
   "outputs": [],
   "source": [
    "users.registerTempTable(\"users\")"
   ]
  },
  {
   "cell_type": "code",
   "execution_count": 13,
   "metadata": {},
   "outputs": [],
   "source": [
    "users_location = spark.sql(\"SELECT location, users_id, views, display_name, reputation, updated_at FROM users WHERE users.location = 'Geneva, Switzerland'\")"
   ]
  },
  {
   "cell_type": "code",
   "execution_count": 14,
   "metadata": {},
   "outputs": [
    {
     "name": "stdout",
     "output_type": "stream",
     "text": [
      "+-------------------+--------+-----+--------------------+----------+-------------------+\n",
      "|           location|users_id|views|        display_name|reputation|         updated_at|\n",
      "+-------------------+--------+-----+--------------------+----------+-------------------+\n",
      "|Geneva, Switzerland|10899443|    6|Luis Manuel Quiro...|        23|2019-04-18 12:37:33|\n",
      "|Geneva, Switzerland|10942263|    6|      Mehdi Mansouri|         3|2019-04-03 13:18:40|\n",
      "|Geneva, Switzerland| 7379026|    0|    Anthony Levillon|         1|2019-10-11 15:24:48|\n",
      "|Geneva, Switzerland|11516425|    2|Snezana Nektarijevic|         1|2019-10-11 12:45:40|\n",
      "|Geneva, Switzerland|11185092|    3|                Fred|         1|2019-06-27 08:01:55|\n",
      "|Geneva, Switzerland|10651242|   43|          hhaefliger|       297|2019-10-11 22:50:56|\n",
      "|Geneva, Switzerland|11001751|   11|           Sebastian|        25|2019-08-03 09:01:22|\n",
      "|Geneva, Switzerland| 3586678|   10|                 BCh|        60|2019-09-27 13:24:40|\n",
      "|Geneva, Switzerland| 8194488|   12|              Jiizen|        26|2019-10-12 08:18:32|\n",
      "|Geneva, Switzerland| 6633929|   98|   Florian Bienefelt|       420|2019-10-10 15:00:17|\n",
      "|Geneva, Switzerland| 8379991|   40|                J.G.|       309|2019-10-11 11:52:19|\n",
      "|Geneva, Switzerland| 2683963|   18|              Giulia|        93|2019-10-09 19:29:33|\n",
      "|Geneva, Switzerland| 4120777|   77|   Vincenzo Lavorini|       405|2019-10-08 15:41:43|\n",
      "|Geneva, Switzerland| 9896279|   12|            BenderIO|       313|2019-10-11 14:06:34|\n",
      "|Geneva, Switzerland| 4063669|   29|              Tomm P|       183|2019-10-13 06:06:52|\n",
      "|Geneva, Switzerland| 6057582|    9|     Borun Chowdhury|       107|2019-10-10 18:27:49|\n",
      "|Geneva, Switzerland| 8007485|   23|               dapaz|       398|2019-10-10 13:20:06|\n",
      "|Geneva, Switzerland| 5013231|   27|             khalito|       355|2019-10-09 11:03:31|\n",
      "|Geneva, Switzerland| 8814732|   56|       Komron Aripov|       386|2019-10-04 08:52:07|\n",
      "|Geneva, Switzerland| 2808549|   79|  Albert James Teddy|       441|2019-10-12 17:37:57|\n",
      "+-------------------+--------+-----+--------------------+----------+-------------------+\n",
      "only showing top 20 rows\n",
      "\n"
     ]
    }
   ],
   "source": [
    "users_location.show()"
   ]
  },
  {
   "cell_type": "code",
   "execution_count": 15,
   "metadata": {},
   "outputs": [],
   "source": [
    "new_location = users_location\\\n",
    "    .withColumn('city', F.split(users_location['location'], ',')[0])\\\n",
    "    .withColumn('country', F.split(users_location['location'], ',')[1])"
   ]
  },
  {
   "cell_type": "code",
   "execution_count": 16,
   "metadata": {},
   "outputs": [],
   "source": [
    "new_location.registerTempTable(\"new_location\")\n",
    "new_location = spark.sql(\"SELECT users_id, city, country, views, display_name, reputation, updated_at FROM new_location WHERE new_location.city = 'Geneva'\")"
   ]
  },
  {
   "cell_type": "code",
   "execution_count": 17,
   "metadata": {},
   "outputs": [
    {
     "name": "stdout",
     "output_type": "stream",
     "text": [
      "+--------+------+------------+-----+--------------------+----------+-------------------+\n",
      "|users_id|  city|     country|views|        display_name|reputation|         updated_at|\n",
      "+--------+------+------------+-----+--------------------+----------+-------------------+\n",
      "|10942263|Geneva| Switzerland|    6|      Mehdi Mansouri|         3|2019-04-03 13:18:40|\n",
      "|11001751|Geneva| Switzerland|   11|           Sebastian|        25|2019-08-03 09:01:22|\n",
      "| 7379026|Geneva| Switzerland|    0|    Anthony Levillon|         1|2019-10-11 15:24:48|\n",
      "|10899443|Geneva| Switzerland|    6|Luis Manuel Quiro...|        23|2019-04-18 12:37:33|\n",
      "|11185092|Geneva| Switzerland|    3|                Fred|         1|2019-06-27 08:01:55|\n",
      "|11516425|Geneva| Switzerland|    2|Snezana Nektarijevic|         1|2019-10-11 12:45:40|\n",
      "| 8194488|Geneva| Switzerland|   12|              Jiizen|        26|2019-10-12 08:18:32|\n",
      "| 3586678|Geneva| Switzerland|   10|                 BCh|        60|2019-09-27 13:24:40|\n",
      "| 4063669|Geneva| Switzerland|   29|              Tomm P|       183|2019-10-13 06:06:52|\n",
      "| 9896279|Geneva| Switzerland|   12|            BenderIO|       313|2019-10-11 14:06:34|\n",
      "| 6633929|Geneva| Switzerland|   98|   Florian Bienefelt|       420|2019-10-10 15:00:17|\n",
      "| 6057582|Geneva| Switzerland|    9|     Borun Chowdhury|       107|2019-10-10 18:27:49|\n",
      "| 5013231|Geneva| Switzerland|   27|             khalito|       355|2019-10-09 11:03:31|\n",
      "| 8007485|Geneva| Switzerland|   23|               dapaz|       398|2019-10-10 13:20:06|\n",
      "| 8814732|Geneva| Switzerland|   56|       Komron Aripov|       386|2019-10-04 08:52:07|\n",
      "| 8379991|Geneva| Switzerland|   40|                J.G.|       309|2019-10-11 11:52:19|\n",
      "| 2683963|Geneva| Switzerland|   18|              Giulia|        93|2019-10-09 19:29:33|\n",
      "| 2808549|Geneva| Switzerland|   79|  Albert James Teddy|       441|2019-10-12 17:37:57|\n",
      "| 4120777|Geneva| Switzerland|   77|   Vincenzo Lavorini|       405|2019-10-08 15:41:43|\n",
      "|  429555|Geneva| Switzerland|  203|        ferhat elmas|      1698|2019-10-13 00:14:08|\n",
      "+--------+------+------------+-----+--------------------+----------+-------------------+\n",
      "only showing top 20 rows\n",
      "\n"
     ]
    }
   ],
   "source": [
    "new_location.show()"
   ]
  },
  {
   "cell_type": "code",
   "execution_count": 18,
   "metadata": {},
   "outputs": [],
   "source": [
    "questions.registerTempTable(\"questions\")"
   ]
  },
  {
   "cell_type": "code",
   "execution_count": 19,
   "metadata": {},
   "outputs": [],
   "source": [
    "newUserLocation_questions = questions.join(new_location, questions.questions_user_id == new_location.users_id)"
   ]
  },
  {
   "cell_type": "code",
   "execution_count": 20,
   "metadata": {},
   "outputs": [
    {
     "name": "stdout",
     "output_type": "stream",
     "text": [
      "+------------+-----------------+--------------------+--------------------+------------------+-----+----------+-----------------------+--------------------+--------+------+------------+-----+--------------------+----------+-------------------+\n",
      "|questions_id|questions_user_id|               title|      questions_body|accepted_answer_id|score|view_count|questions_comment_count|questions_created_at|users_id|  city|     country|views|        display_name|reputation|         updated_at|\n",
      "+------------+-----------------+--------------------+--------------------+------------------+-----+----------+-----------------------+--------------------+--------+------+------------+-----+--------------------+----------+-------------------+\n",
      "|    55257298|           993592|Pinning icons to ...|<p>I have a video...|          55257852|    1|        68|                      0| 2019-03-20 09:20:42|  993592|Geneva| Switzerland|  325|          ardochhigh|      3204|2019-10-12 07:30:23|\n",
      "|    55764766|           993592|Calculate TD-IDF ...|<p>I'm trying to ...|          55809761|    1|       314|                      5| 2019-04-19 16:19:04|  993592|Geneva| Switzerland|  325|          ardochhigh|      3204|2019-10-12 07:30:23|\n",
      "|    54282203|         10942263|reduceByKey a lis...|<p>I am new to py...|          54292228|   -1|       178|                      0| 2019-01-21 00:23:14|10942263|Geneva| Switzerland|    6|      Mehdi Mansouri|         3|2019-04-03 13:18:40|\n",
      "|    56188507|         11516425|Neo4j: loop over ...|<p>I want to crea...|              null|    0|       110|                      0| 2019-05-17 14:29:07|11516425|Geneva| Switzerland|    2|Snezana Nektarijevic|         1|2019-10-11 12:45:40|\n",
      "|    54808418|          4008657|Filling-in missin...|<p>For a dataset ...|          54849695|    1|       220|                      0| 2019-02-21 13:36:44| 4008657|Geneva| Switzerland|  490|     Ruthger Righart|      2297|2019-10-03 08:14:28|\n",
      "|    56662609|          4008657|s3.upload_fileobj...|<p>My question is...|              null|    1|       282|                      3| 2019-06-19 07:49:34| 4008657|Geneva| Switzerland|  490|     Ruthger Righart|      2297|2019-10-03 08:14:28|\n",
      "|    54635195|           587365|Liquibase with Sp...|<p>We have an dat...|              null|    2|       279|                      0| 2019-02-11 16:41:12|  587365|Geneva| Switzerland|  834|      Andrew Spencer|      9316|2019-10-11 13:25:13|\n",
      "|    56044040|          6633929|Get array from ne...|<p>I'd like to kn...|              null|    0|        43|                      4| 2019-05-08 15:20:45| 6633929|Geneva| Switzerland|   98|   Florian Bienefelt|       420|2019-10-10 15:00:17|\n",
      "|    54145284|         10899443|How to iterate ov...|<p>i hope you can...|          54145450|    1|        62|                      2| 2019-01-11 11:05:34|10899443|Geneva| Switzerland|    6|Luis Manuel Quiro...|        23|2019-04-18 12:37:33|\n",
      "|    56517193|          1363998|Where should I st...|<p>I'm working on...|          56517226|    0|        49|                      0| 2019-06-09 18:11:21| 1363998|Geneva| Switzerland|  153|    Zonker.in.Geneva|       833|2019-10-08 15:52:16|\n",
      "|    56806437|          1363998|Firebase Auth and...|<p>I'm working on...|          56809735|    0|        75|                      6| 2019-06-28 11:51:18| 1363998|Geneva| Switzerland|  153|    Zonker.in.Geneva|       833|2019-10-08 15:52:16|\n",
      "|    55212746|         11001751|Rcpp fast statist...|<p>I'm trying to ...|          55223792|    2|       141|                      3| 2019-03-17 22:52:56|11001751|Geneva| Switzerland|   11|           Sebastian|        25|2019-08-03 09:01:22|\n",
      "|    56541640|          1328355|\"Articles for you...|<p>Chrome mobile ...|              null|    2|       632|                      0| 2019-06-11 10:25:20| 1328355|Geneva| Switzerland|  330|      Bastiaan Quast|      1507|2019-10-10 14:14:41|\n",
      "|    55702809|          3719845|Use image hash in...|<p>I am troublesh...|          55703150|    0|        29|                      0| 2019-04-16 07:28:30| 3719845|Geneva| Switzerland|   36|              ITChap|       454|2019-10-11 06:55:01|\n",
      "|    54626597|          4063669|Float and Double ...|<p>SWIFT/IOS Impl...|              null|   -2|       138|                     14| 2019-02-11 08:36:32| 4063669|Geneva| Switzerland|   29|              Tomm P|       183|2019-10-13 06:06:52|\n",
      "|    54443889|          4636721|Why `fmt.Println(...|<p>I was recently...|          54443962|    2|        53|                      1| 2019-01-30 15:21:08| 4636721|Geneva| Switzerland|  587|      Ehouarn Perret|      1950|2019-10-12 21:30:49|\n",
      "|    54514579|          4636721|Bootstrap 4 Navba...|<p>I am using Boo...|          54514691|    0|       582|                      0| 2019-02-04 10:51:21| 4636721|Geneva| Switzerland|  587|      Ehouarn Perret|      1950|2019-10-12 21:30:49|\n",
      "|    55238090|          4636721|How to create a ....|<p>I would like t...|          55238849|    2|       385|                      9| 2019-03-19 09:55:33| 4636721|Geneva| Switzerland|  587|      Ehouarn Perret|      1950|2019-10-12 21:30:49|\n",
      "|    55792808|          4636721|How to get rid of...|<p>I am playing w...|          55793036|    0|       208|                      6| 2019-04-22 10:18:52| 4636721|Geneva| Switzerland|  587|      Ehouarn Perret|      1950|2019-10-12 21:30:49|\n",
      "|    55921652|          4636721|How to close ever...|<p>Is there a way...|          55921682|    1|       270|                      0| 2019-04-30 13:09:41| 4636721|Geneva| Switzerland|  587|      Ehouarn Perret|      1950|2019-10-12 21:30:49|\n",
      "+------------+-----------------+--------------------+--------------------+------------------+-----+----------+-----------------------+--------------------+--------+------+------------+-----+--------------------+----------+-------------------+\n",
      "only showing top 20 rows\n",
      "\n"
     ]
    }
   ],
   "source": [
    "newUserLocation_questions.show()"
   ]
  },
  {
   "cell_type": "code",
   "execution_count": 21,
   "metadata": {},
   "outputs": [],
   "source": [
    "newUserLocation_questions.registerTempTable(\"newUserLocation_questions\")\n",
    "questions_viewCount = spark.sql(\"SELECT * FROM newUserLocation_questions WHERE view_count >= 20\")"
   ]
  },
  {
   "cell_type": "code",
   "execution_count": 22,
   "metadata": {},
   "outputs": [
    {
     "name": "stdout",
     "output_type": "stream",
     "text": [
      "+------------+-----------------+--------------------+--------------------+------------------+-----+----------+-----------------------+--------------------+--------+------+------------+-----+--------------------+----------+-------------------+\n",
      "|questions_id|questions_user_id|               title|      questions_body|accepted_answer_id|score|view_count|questions_comment_count|questions_created_at|users_id|  city|     country|views|        display_name|reputation|         updated_at|\n",
      "+------------+-----------------+--------------------+--------------------+------------------+-----+----------+-----------------------+--------------------+--------+------+------------+-----+--------------------+----------+-------------------+\n",
      "|    55257298|           993592|Pinning icons to ...|<p>I have a video...|          55257852|    1|        68|                      0| 2019-03-20 09:20:42|  993592|Geneva| Switzerland|  325|          ardochhigh|      3204|2019-10-12 07:30:23|\n",
      "|    55764766|           993592|Calculate TD-IDF ...|<p>I'm trying to ...|          55809761|    1|       314|                      5| 2019-04-19 16:19:04|  993592|Geneva| Switzerland|  325|          ardochhigh|      3204|2019-10-12 07:30:23|\n",
      "|    54282203|         10942263|reduceByKey a lis...|<p>I am new to py...|          54292228|   -1|       178|                      0| 2019-01-21 00:23:14|10942263|Geneva| Switzerland|    6|      Mehdi Mansouri|         3|2019-04-03 13:18:40|\n",
      "|    56188507|         11516425|Neo4j: loop over ...|<p>I want to crea...|              null|    0|       110|                      0| 2019-05-17 14:29:07|11516425|Geneva| Switzerland|    2|Snezana Nektarijevic|         1|2019-10-11 12:45:40|\n",
      "|    54808418|          4008657|Filling-in missin...|<p>For a dataset ...|          54849695|    1|       220|                      0| 2019-02-21 13:36:44| 4008657|Geneva| Switzerland|  490|     Ruthger Righart|      2297|2019-10-03 08:14:28|\n",
      "|    56662609|          4008657|s3.upload_fileobj...|<p>My question is...|              null|    1|       282|                      3| 2019-06-19 07:49:34| 4008657|Geneva| Switzerland|  490|     Ruthger Righart|      2297|2019-10-03 08:14:28|\n",
      "|    54635195|           587365|Liquibase with Sp...|<p>We have an dat...|              null|    2|       279|                      0| 2019-02-11 16:41:12|  587365|Geneva| Switzerland|  834|      Andrew Spencer|      9316|2019-10-11 13:25:13|\n",
      "|    56044040|          6633929|Get array from ne...|<p>I'd like to kn...|              null|    0|        43|                      4| 2019-05-08 15:20:45| 6633929|Geneva| Switzerland|   98|   Florian Bienefelt|       420|2019-10-10 15:00:17|\n",
      "|    54145284|         10899443|How to iterate ov...|<p>i hope you can...|          54145450|    1|        62|                      2| 2019-01-11 11:05:34|10899443|Geneva| Switzerland|    6|Luis Manuel Quiro...|        23|2019-04-18 12:37:33|\n",
      "|    56517193|          1363998|Where should I st...|<p>I'm working on...|          56517226|    0|        49|                      0| 2019-06-09 18:11:21| 1363998|Geneva| Switzerland|  153|    Zonker.in.Geneva|       833|2019-10-08 15:52:16|\n",
      "|    56806437|          1363998|Firebase Auth and...|<p>I'm working on...|          56809735|    0|        75|                      6| 2019-06-28 11:51:18| 1363998|Geneva| Switzerland|  153|    Zonker.in.Geneva|       833|2019-10-08 15:52:16|\n",
      "|    55212746|         11001751|Rcpp fast statist...|<p>I'm trying to ...|          55223792|    2|       141|                      3| 2019-03-17 22:52:56|11001751|Geneva| Switzerland|   11|           Sebastian|        25|2019-08-03 09:01:22|\n",
      "|    56541640|          1328355|\"Articles for you...|<p>Chrome mobile ...|              null|    2|       632|                      0| 2019-06-11 10:25:20| 1328355|Geneva| Switzerland|  330|      Bastiaan Quast|      1507|2019-10-10 14:14:41|\n",
      "|    55702809|          3719845|Use image hash in...|<p>I am troublesh...|          55703150|    0|        29|                      0| 2019-04-16 07:28:30| 3719845|Geneva| Switzerland|   36|              ITChap|       454|2019-10-11 06:55:01|\n",
      "|    54626597|          4063669|Float and Double ...|<p>SWIFT/IOS Impl...|              null|   -2|       138|                     14| 2019-02-11 08:36:32| 4063669|Geneva| Switzerland|   29|              Tomm P|       183|2019-10-13 06:06:52|\n",
      "|    54443889|          4636721|Why `fmt.Println(...|<p>I was recently...|          54443962|    2|        53|                      1| 2019-01-30 15:21:08| 4636721|Geneva| Switzerland|  587|      Ehouarn Perret|      1950|2019-10-12 21:30:49|\n",
      "|    54514579|          4636721|Bootstrap 4 Navba...|<p>I am using Boo...|          54514691|    0|       582|                      0| 2019-02-04 10:51:21| 4636721|Geneva| Switzerland|  587|      Ehouarn Perret|      1950|2019-10-12 21:30:49|\n",
      "|    55238090|          4636721|How to create a ....|<p>I would like t...|          55238849|    2|       385|                      9| 2019-03-19 09:55:33| 4636721|Geneva| Switzerland|  587|      Ehouarn Perret|      1950|2019-10-12 21:30:49|\n",
      "|    55792808|          4636721|How to get rid of...|<p>I am playing w...|          55793036|    0|       208|                      6| 2019-04-22 10:18:52| 4636721|Geneva| Switzerland|  587|      Ehouarn Perret|      1950|2019-10-12 21:30:49|\n",
      "|    55921652|          4636721|How to close ever...|<p>Is there a way...|          55921682|    1|       270|                      0| 2019-04-30 13:09:41| 4636721|Geneva| Switzerland|  587|      Ehouarn Perret|      1950|2019-10-12 21:30:49|\n",
      "+------------+-----------------+--------------------+--------------------+------------------+-----+----------+-----------------------+--------------------+--------+------+------------+-----+--------------------+----------+-------------------+\n",
      "only showing top 20 rows\n",
      "\n"
     ]
    }
   ],
   "source": [
    "questions_viewCount.show()"
   ]
  },
  {
   "cell_type": "code",
   "execution_count": 23,
   "metadata": {},
   "outputs": [],
   "source": [
    "answers.registerTempTable(\"answers\")\n",
    "get_answers = spark.sql(\"SELECT * FROM answers\")"
   ]
  },
  {
   "cell_type": "code",
   "execution_count": 24,
   "metadata": {},
   "outputs": [
    {
     "name": "stdout",
     "output_type": "stream",
     "text": [
      "+----------+---------------+-------------------+--------------------+-------------+---------------------+-------------------+\n",
      "|answers_id|answers_user_id|answers_question_id|        answers_body|answers_score|answers_comment_count| answers_created_at|\n",
      "+----------+---------------+-------------------+--------------------+-------------+---------------------+-------------------+\n",
      "|  55729762|       10212443|           55713573|<p>Here is the co...|            0|                    0|2019-04-17 14:20:44|\n",
      "|  55748103|        1177119|           55617273|<p>Here's an alte...|            0|                    1|2019-04-18 14:24:30|\n",
      "|  55730420|       10545883|           55730331|<p>zip is just a ...|            0|                    0|2019-04-17 14:49:25|\n",
      "|  55800049|        3233363|           55799087|<p>When a date co...|            0|                    2|2019-04-22 19:31:36|\n",
      "|  55723275|        5157454|           55722988|<p>With lodash yo...|            0|                    0|2019-04-17 08:35:17|\n",
      "|  55743035|       10810208|           55743001|<p>try:</p>\n",
      "\n",
      "<pre...|            0|                    0|2019-04-18 09:27:30|\n",
      "|  55741093|        7602350|           55740445|<p>The Data is ac...|            0|                    0|2019-04-18 07:27:14|\n",
      "|  55729765|        2428802|           55701909|<p>If <code>getTr...|            0|                    0|2019-04-17 14:20:53|\n",
      "|  55730038|        2072676|           55727144|<p>Solved by runn...|            0|                    0|2019-04-17 14:32:42|\n",
      "|  55743063|        4025802|           55734239|<p>As per my unde...|            0|                    4|2019-04-18 09:28:49|\n",
      "|  55741155|        7998591|           55740434|<p>Maybe somethin...|            0|                    0|2019-04-18 07:31:32|\n",
      "|  55723456|         436315|           55722859|<p>There are plen...|            0|                    1|2019-04-17 08:45:13|\n",
      "|  55730108|        3732793|           55704077|<p>for those inte...|            0|                    0|2019-04-17 14:35:13|\n",
      "|  55721862|        9904582|           55721644|<p>You're working...|            0|                    0|2019-04-17 07:11:28|\n",
      "|  55749307|        5462974|           55749253|<p>Did you try sp...|            0|                    0|2019-04-18 15:30:29|\n",
      "|  55721804|        8311330|           55721666|<p>If you just wa...|            0|                    1|2019-04-17 07:08:22|\n",
      "|  55730118|        7798489|           55727108|<p>The best way t...|            0|                    0|2019-04-17 14:35:45|\n",
      "|  55748287|        1441720|           55746247|<p>I think the an...|            0|                    0|2019-04-18 14:33:30|\n",
      "|  55723462|        1422102|           55722948|<p>I think you ar...|            0|                    7|2019-04-17 08:45:26|\n",
      "|  55741098|        3825084|           55740007|<p>Few steps to b...|            0|                    0|2019-04-18 07:27:25|\n",
      "+----------+---------------+-------------------+--------------------+-------------+---------------------+-------------------+\n",
      "only showing top 20 rows\n",
      "\n"
     ]
    }
   ],
   "source": [
    "get_answers.show()"
   ]
  },
  {
   "cell_type": "code",
   "execution_count": 25,
   "metadata": {},
   "outputs": [],
   "source": [
    "questions_viewCount.registerTempTable(\"questions_viewCount\")\n",
    "get_answers.registerTempTable(\"get_answers\")"
   ]
  },
  {
   "cell_type": "code",
   "execution_count": 26,
   "metadata": {},
   "outputs": [],
   "source": [
    "more_join = get_answers.join(questions_viewCount, get_answers.answers_question_id == questions_viewCount.questions_id)"
   ]
  },
  {
   "cell_type": "code",
   "execution_count": 27,
   "metadata": {},
   "outputs": [
    {
     "data": {
      "text/plain": [
       "[('answers_id', 'int'),\n",
       " ('answers_user_id', 'int'),\n",
       " ('answers_question_id', 'int'),\n",
       " ('answers_body', 'string'),\n",
       " ('answers_score', 'int'),\n",
       " ('answers_comment_count', 'int'),\n",
       " ('answers_created_at', 'timestamp'),\n",
       " ('questions_id', 'int'),\n",
       " ('questions_user_id', 'int'),\n",
       " ('title', 'string'),\n",
       " ('questions_body', 'string'),\n",
       " ('accepted_answer_id', 'int'),\n",
       " ('score', 'int'),\n",
       " ('view_count', 'int'),\n",
       " ('questions_comment_count', 'int'),\n",
       " ('questions_created_at', 'timestamp'),\n",
       " ('users_id', 'int'),\n",
       " ('city', 'string'),\n",
       " ('country', 'string'),\n",
       " ('views', 'int'),\n",
       " ('display_name', 'string'),\n",
       " ('reputation', 'string'),\n",
       " ('updated_at', 'timestamp')]"
      ]
     },
     "execution_count": 27,
     "metadata": {},
     "output_type": "execute_result"
    }
   ],
   "source": [
    "more_join.dtypes"
   ]
  },
  {
   "cell_type": "code",
   "execution_count": 28,
   "metadata": {},
   "outputs": [
    {
     "data": {
      "text/plain": [
       "98"
      ]
     },
     "execution_count": 28,
     "metadata": {},
     "output_type": "execute_result"
    }
   ],
   "source": [
    "more_join.count()"
   ]
  },
  {
   "cell_type": "code",
   "execution_count": 29,
   "metadata": {},
   "outputs": [],
   "source": [
    "more_join.registerTempTable('find_time')\n",
    "find_time = spark.sql(\"SELECT min(updated_at) FROM find_time\")"
   ]
  },
  {
   "cell_type": "code",
   "execution_count": 30,
   "metadata": {},
   "outputs": [
    {
     "name": "stdout",
     "output_type": "stream",
     "text": [
      "+-------------------+\n",
      "|    min(updated_at)|\n",
      "+-------------------+\n",
      "|2019-04-03 13:18:40|\n",
      "+-------------------+\n",
      "\n"
     ]
    }
   ],
   "source": [
    "find_time.show()"
   ]
  },
  {
   "cell_type": "code",
   "execution_count": null,
   "metadata": {},
   "outputs": [],
   "source": [
    "more_join.write.format(\"jdbc\").options(\n",
    "    url='jdbc:postgresql://localhost:5432/stackoverflow',\n",
    "    driver='org.postgresql.Driver',\n",
    "    user='username',\n",
    "    password='*******',\n",
    "    dbtable='stackoverflow_filtered.results'\n",
    ").save(mode='append')"
   ]
  },
  {
   "cell_type": "markdown",
   "metadata": {},
   "source": [
    "# Difference Between Views and Materialized Views"
   ]
  },
  {
   "cell_type": "markdown",
   "metadata": {},
   "source": [
    "Views are virtual projections created as a result of a query expression. They are not stored physically on a disk thus, do not require memory space. Material view are a non-virtual schema, that is, they are a physical copy of the base table and are stored physically on a disk, thus, utilizing memory space.\n",
    "\n",
    "Views have slow processing speed while that of materialized view is fast.\n",
    "\n"
   ]
  },
  {
   "cell_type": "code",
   "execution_count": null,
   "metadata": {},
   "outputs": [],
   "source": []
  }
 ],
 "metadata": {
  "kernelspec": {
   "display_name": "Python 3",
   "language": "python",
   "name": "python3"
  },
  "language_info": {
   "codemirror_mode": {
    "name": "ipython",
    "version": 3
   },
   "file_extension": ".py",
   "mimetype": "text/x-python",
   "name": "python",
   "nbconvert_exporter": "python",
   "pygments_lexer": "ipython3",
   "version": "3.7.3"
  }
 },
 "nbformat": 4,
 "nbformat_minor": 4
}
